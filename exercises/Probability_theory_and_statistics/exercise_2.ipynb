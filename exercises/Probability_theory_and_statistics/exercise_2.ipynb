{
 "cells": [
  {
   "cell_type": "markdown",
   "id": "5eb3329d",
   "metadata": {},
   "source": [
    "# 📦 Importing libraries"
   ]
  },
  {
   "cell_type": "code",
   "execution_count": 5,
   "id": "b14ce036",
   "metadata": {},
   "outputs": [],
   "source": [
    "import numpy as np # NumPy → for numerical arrays and math\n",
    "import pandas as pd # Pandas → for working with data tables\n",
    "import matplotlib.pyplot as plt # Matplotlib → for plotting\n",
    "from scipy import stats # SciPy → for statistical tests\n",
    "import matplotlib.pyplot as plt\n",
    "import seaborn as sns"
   ]
  },
  {
   "cell_type": "markdown",
   "id": "a7106ad4",
   "metadata": {},
   "source": [
    "# Exercise 1 – Sampling from a population\n",
    "\n",
    "The Numpy Python package incorporates handy functions to help us sample from a parametrised probability distribution using `np.random.normal` for example, to sample from a normal distribution.\n",
    "\n",
    "Let's say that we are able to repeatedly sample from a population with a mean equal to `1.77` and a standard deviation of `.15`. Can you run an experiment where you sample 100 times from this population and estimate the mean, in one case using a sample size of `10`, and in the other case using a sample size of `100`."
   ]
  },
  {
   "cell_type": "code",
   "execution_count": null,
   "id": "e0a3aec8",
   "metadata": {},
   "outputs": [],
   "source": [
    "mean_10_list, mean_50_list = [], []\n",
    "for i in range(100):\n",
    "\n",
    "    # first, we start by sampling 1000 values from a normal distribution\n",
    "    sample_10 = ...\n",
    "    sample_50 = ...\n",
    "    \n",
    "    # then we compute the mean of each sample\n",
    "    mean_10 = ...\n",
    "    mean_50 = ...\n",
    "\n",
    "    # we save the means in a list\n",
    "    mean_10_list.append(mean_10)\n",
    "    mean_50_list.append(mean_50)"
   ]
  },
  {
   "cell_type": "code",
   "execution_count": null,
   "id": "919b0ef6",
   "metadata": {},
   "outputs": [],
   "source": [
    "sns.histplot(mean_10_list, binwidth=.01, color='blue', label='Sample size 10')\n",
    "sns.histplot(mean_50_list, binwidth=.01, color='orange', label='Sample size 50')\n",
    "plt.legend()\n",
    "plt.xlabel('Estimated Mean')\n",
    "plt.ylabel('Frequency')\n",
    "plt.title('Distribution of Estimated Means for Different Sample Sizes')\n",
    "plt.show()"
   ]
  },
  {
   "cell_type": "markdown",
   "id": "f34e6eb6",
   "metadata": {},
   "source": [
    "- How can we interpret this result?\n",
    "- What does this tell us about sample size?"
   ]
  },
  {
   "cell_type": "markdown",
   "id": "6a28f934",
   "metadata": {},
   "source": [
    "# Exercise 2 – Outliers and outliers detection\n",
    "\n",
    "Something is off with the following set of observations. Can you diagnose the problem using a visualisation?"
   ]
  },
  {
   "cell_type": "code",
   "execution_count": 27,
   "id": "35184d2e",
   "metadata": {},
   "outputs": [],
   "source": [
    "observations = np.array([\n",
    "    1.87447019, 1.73207716, 1.8871719 , 1.8748855 , 1.74417524, 1.74424083, 1.93576867, 2.10718956, 1.54014022, \n",
    "    1.8708917, 2.49873651, 1.63914268, 1.82887842, 1.91861753, 1.62754924, 1.92995007, 1.87493078, 1.83592009,\n",
    "    1.97765979, 1.79065466, 1.7716507\n",
    "    ])"
   ]
  },
  {
   "cell_type": "markdown",
   "id": "cc63bc97",
   "metadata": {},
   "source": [
    "We would like to create a principled method to detect this kind of events. \n",
    "\n",
    "1) Can you try to describe what is happening in term of probabilities (no code, just mathematical property), using the metrics introduced earlier in the course?"
   ]
  },
  {
   "cell_type": "markdown",
   "id": "ec397913",
   "metadata": {},
   "source": [
    "2) Can we use the standard deviation to try to remove the invalid datapoint? We will try this approach by removing everything that lies to far away from the mean of the distribution. we define this \"far away\" as more than 3 time awy from the standard deviation. Can you complete the code bellow to perform this?"
   ]
  },
  {
   "cell_type": "code",
   "execution_count": null,
   "id": "1456f8ea",
   "metadata": {},
   "outputs": [],
   "source": [
    "# in this cell, we create a boolean filter that flag which element from a vector \n",
    "# we want to keep, and which element we want to remove\n",
    "\n",
    "# first, we start by substracting the mean to every single observations\n",
    "mean_diff = ...\n",
    "\n",
    "# then, we take the absolute values of this vector (i.e all differences are positive values)\n",
    "abs_mean_diff = ...\n",
    "\n",
    "# then we create a boolean mask, it contains True when the value lies inside the range \n",
    "# of plausible values, and it contains False when the value lies outside\n",
    "mask = ...\n",
    "\n",
    "# finally, we filter the old observation vector and create a new one, without the outlier\n",
    "filtered_observations = ..."
   ]
  },
  {
   "cell_type": "code",
   "execution_count": null,
   "id": "d09d30db",
   "metadata": {},
   "outputs": [],
   "source": [
    "# this cell plot the original and filtered observations\n",
    "plt.figure(figsize=(10, 5))\n",
    "sns.stripplot(data=filtered_observations, color='red', label='Outliers', size=10)\n",
    "sns.stripplot(data=observations, color='blue', label='Valid Observations', size=10)\n",
    "plt.legend()\n",
    "plt.title('Original vs Filtered Observations')\n",
    "plt.xlabel('Value')\n",
    "plt.show()"
   ]
  },
  {
   "cell_type": "markdown",
   "id": "1fd12829",
   "metadata": {},
   "source": [
    "3) Is the method working? How can we see that?"
   ]
  },
  {
   "cell_type": "markdown",
   "id": "de6b2e33",
   "metadata": {},
   "source": [
    "4) Using an arbitrary cut-off from the standard deviation to remove \"outliers\" is a common practice, usually using +/- 2.5 or +/- 3 std. But is it robust? Can you find an example where this method will be biased?"
   ]
  },
  {
   "cell_type": "markdown",
   "id": "bd4b351f",
   "metadata": {},
   "source": [
    "5) Do you think it is a good scientific practice to remove outliers when analysing a dataset?"
   ]
  }
 ],
 "metadata": {
  "kernelspec": {
   "display_name": "base",
   "language": "python",
   "name": "python3"
  },
  "language_info": {
   "codemirror_mode": {
    "name": "ipython",
    "version": 3
   },
   "file_extension": ".py",
   "mimetype": "text/x-python",
   "name": "python",
   "nbconvert_exporter": "python",
   "pygments_lexer": "ipython3",
   "version": "3.10.13"
  }
 },
 "nbformat": 4,
 "nbformat_minor": 5
}
